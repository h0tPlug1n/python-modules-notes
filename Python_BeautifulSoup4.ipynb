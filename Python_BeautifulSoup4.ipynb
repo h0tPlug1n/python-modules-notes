{
  "nbformat": 4,
  "nbformat_minor": 0,
  "metadata": {
    "colab": {
      "name": "Python - BeautifulSoup4",
      "provenance": []
    },
    "kernelspec": {
      "name": "python3",
      "display_name": "Python 3"
    },
    "language_info": {
      "name": "python"
    }
  },
  "cells": [
    {
      "cell_type": "markdown",
      "source": [
        "**Installation:** pip install beautifulsoup4"
      ],
      "metadata": {
        "id": "fjLrYYJZCRzQ"
      }
    },
    {
      "cell_type": "markdown",
      "source": [
        "**Reading local HTML Files**"
      ],
      "metadata": {
        "id": "Iyl9TphPDXxv"
      }
    },
    {
      "cell_type": "code",
      "source": [
        "!pip install beautifulsoup4"
      ],
      "metadata": {
        "colab": {
          "base_uri": "https://localhost:8080/"
        },
        "id": "LIoJ16hmErdN",
        "outputId": "89a8de21-5c6a-4763-b460-54991d935ad8"
      },
      "execution_count": 65,
      "outputs": [
        {
          "output_type": "stream",
          "name": "stdout",
          "text": [
            "Looking in indexes: https://pypi.org/simple, https://us-python.pkg.dev/colab-wheels/public/simple/\n",
            "Requirement already satisfied: beautifulsoup4 in /usr/local/lib/python3.7/dist-packages (4.6.3)\n"
          ]
        }
      ]
    },
    {
      "cell_type": "code",
      "source": [
        "html='''\n",
        "<HTML>\n",
        "\n",
        "<HEAD>\n",
        "\n",
        "<TITLE>Your Title Here</TITLE>\n",
        "\n",
        "</HEAD>\n",
        "\n",
        "<BODY BGCOLOR=\"FFFFFF\">\n",
        "\n",
        "<CENTER><IMG SRC=\"clouds.jpg\" ALIGN=\"BOTTOM\"> </CENTER>\n",
        "\n",
        "<HR>\n",
        "\n",
        "<a href=\"http://somegreatsite.com\">Link Name</a>\n",
        "\n",
        "is a link to another nifty site\n",
        "\n",
        "<H1>This is a Header</H1>\n",
        "\n",
        "<H2>This is a Medium Header</H2>\n",
        "\n",
        "Send me mail at <a href=\"mailto:support@yourcompany.com\">\n",
        "\n",
        "support@yourcompany.com</a>.\n",
        "\n",
        "<P> This is a new paragraph!\n",
        "\n",
        "<P> <B color=\"red\">This is a new paragraph!</B>\n",
        "\n",
        "<BR> <B><I>This is a new sentence without a paragraph break, in bold italics.</I></B>\n",
        "\n",
        "<HR>\n",
        "\n",
        "</BODY>\n",
        "\n",
        "</HTML>\n",
        "'''"
      ],
      "metadata": {
        "id": "Qte2HdXHRkJh"
      },
      "execution_count": 66,
      "outputs": []
    },
    {
      "cell_type": "code",
      "execution_count": 67,
      "metadata": {
        "colab": {
          "base_uri": "https://localhost:8080/"
        },
        "id": "bfDrKZo5Aw5E",
        "outputId": "d69f3516-e98b-4dd8-d885-4404b693afcc"
      },
      "outputs": [
        {
          "output_type": "stream",
          "name": "stdout",
          "text": [
            "\n",
            "<html>\n",
            "<head>\n",
            "<title>Your Title Here</title>\n",
            "</head>\n",
            "<body bgcolor=\"FFFFFF\">\n",
            "<center><img align=\"BOTTOM\" src=\"clouds.jpg\"/> </center>\n",
            "<hr/>\n",
            "<a href=\"http://somegreatsite.com\">Link Name</a>\n",
            "\n",
            "is a link to another nifty site\n",
            "\n",
            "<h1>This is a Header</h1>\n",
            "<h2>This is a Medium Header</h2>\n",
            "\n",
            "Send me mail at <a href=\"mailto:support@yourcompany.com\">\n",
            "\n",
            "support@yourcompany.com</a>.\n",
            "\n",
            "<p> This is a new paragraph!\n",
            "\n",
            "<p> <b color=\"red\">This is a new paragraph!</b>\n",
            "<br/> <b><i>This is a new sentence without a paragraph break, in bold italics.</i></b>\n",
            "<hr/>\n",
            "</p></p></body>\n",
            "</html>\n",
            " \n",
            "\n",
            "<html>\n",
            " <head>\n",
            "  <title>\n",
            "   Your Title Here\n",
            "  </title>\n",
            " </head>\n",
            " <body bgcolor=\"FFFFFF\">\n",
            "  <center>\n",
            "   <img align=\"BOTTOM\" src=\"clouds.jpg\"/>\n",
            "  </center>\n",
            "  <hr/>\n",
            "  <a href=\"http://somegreatsite.com\">\n",
            "   Link Name\n",
            "  </a>\n",
            "  is a link to another nifty site\n",
            "  <h1>\n",
            "   This is a Header\n",
            "  </h1>\n",
            "  <h2>\n",
            "   This is a Medium Header\n",
            "  </h2>\n",
            "  Send me mail at\n",
            "  <a href=\"mailto:support@yourcompany.com\">\n",
            "   support@yourcompany.com\n",
            "  </a>\n",
            "  .\n",
            "  <p>\n",
            "   This is a new paragraph!\n",
            "   <p>\n",
            "    <b color=\"red\">\n",
            "     This is a new paragraph!\n",
            "    </b>\n",
            "    <br/>\n",
            "    <b>\n",
            "     <i>\n",
            "      This is a new sentence without a paragraph break, in bold italics.\n",
            "     </i>\n",
            "    </b>\n",
            "    <hr/>\n",
            "   </p>\n",
            "  </p>\n",
            " </body>\n",
            "</html>\n",
            " \n",
            "\n",
            "<title>Your Title Here</title> \n",
            "\n",
            "Your Title Here \n",
            "\n",
            "Chenge Title Tag \n",
            "\n",
            "<h1>This is a Header</h1> \n",
            "\n",
            "[<p> This is a new paragraph!\n",
            "\n",
            "<p> <b color=\"red\">This is a new paragraph!</b>\n",
            "<br/> <b><i>This is a new sentence without a paragraph break, in bold italics.</i></b>\n",
            "<hr/>\n",
            "</p></p>, <p> <b color=\"red\">This is a new paragraph!</b>\n",
            "<br/> <b><i>This is a new sentence without a paragraph break, in bold italics.</i></b>\n",
            "<hr/>\n",
            "</p>] \n",
            "\n",
            "This is a new sentence without a paragraph break, in bold italics. \n",
            "\n"
          ]
        }
      ],
      "source": [
        "from bs4 import BeautifulSoup\n",
        "\n",
        "doc = BeautifulSoup(html, \"html.parser\")\n",
        "print(doc,\"\\n\") # this will print the html code in a simple manner\n",
        "print(doc.prettify(),\"\\n\") # this will print the prettified html code having proper indentation\n",
        "print(doc.title,\"\\n\") # this displays the title tag\n",
        "print(doc.title.text,\"\\n\") # this displays the text of the title tag\n",
        "doc.title=\"Chenge Title Tag\" # we can modify the content of the tag\n",
        "print(doc.title,\"\\n\") # displays the modified title tag\n",
        "tag = doc.find('h1') # this displays the first h1 tag of the html page\n",
        "print(tag,\"\\n\")\n",
        "tags = doc.find_all('p') # this will display all the <p> tags present in the html file\n",
        "print(tags,\"\\n\")\n",
        "print(tags[0].find_all('b')[1].i.text,\"\\n\") # this displays the text inside the <i> present inside 2nd <b> present inside 1st <p> of the html"
      ]
    },
    {
      "cell_type": "markdown",
      "source": [
        "**Working with websites**"
      ],
      "metadata": {
        "id": "XZPwLFjjEGL-"
      }
    },
    {
      "cell_type": "code",
      "source": [
        "import requests\n",
        "url = 'https://www.newegg.com/asus-geforce-rtx-3090-rog-strix-rtx3090-o24g-gaming/p/N82E16814126456'\n",
        "\n",
        "result= requests.get(url)\n",
        "doc = BeautifulSoup(result.text, \"lxml\")\n",
        "prices = doc.find_all(text='$') # this will search for all text containing $\n",
        "print(prices)\n",
        "parent = prices[0].parent\n",
        "print(parent)\n",
        "print(parent.find('strong').text) # getting the price"
      ],
      "metadata": {
        "colab": {
          "base_uri": "https://localhost:8080/"
        },
        "id": "B2hQ1u_gUxf2",
        "outputId": "e6fde336-6050-4e00-b329-b022ff9e6ea0"
      },
      "execution_count": 68,
      "outputs": [
        {
          "output_type": "stream",
          "name": "stdout",
          "text": [
            "['$', '$', '$', '$']\n",
            "<li class=\"price-current\"><span class=\"price-current-label\"></span>$<strong>1,299</strong><sup>.00</sup></li>\n",
            "1,299\n"
          ]
        }
      ]
    },
    {
      "cell_type": "code",
      "source": [
        "html2 = '''\n",
        "<!DOCTYPE html>\n",
        "<html>\n",
        "  <head>\n",
        "    <title>Educational registration form</title>\n",
        "    <link rel=\"stylesheet\" href=\"https://use.fontawesome.com/releases/v5.4.1/css/all.css\" integrity=\"sha384-5sAR7xN1Nv6T6+dT2mhtzEpVJvfS3NScPQTrOxhwjIuvcA67KV2R5Jz6kr4abQsz\" crossorigin=\"anonymous\">\n",
        "    <link href=\"https://fonts.googleapis.com/css?family=Roboto:300,400,500,700\" rel=\"stylesheet\">\n",
        "    <style>\n",
        "      html, body {\n",
        "      min-height: 100%;\n",
        "      }\n",
        "      body, div, form, input, select, p { \n",
        "      padding: 0;\n",
        "      margin: 0;\n",
        "      outline: none;\n",
        "      font-family: Roboto, Arial, sans-serif;\n",
        "      font-size: 16px;\n",
        "      color: #eee;\n",
        "      }\n",
        "      body {\n",
        "      background: url(\"/uploads/media/default/0001/01/b5edc1bad4dc8c20291c8394527cb2c5b43ee13c.jpeg\") no-repeat center;\n",
        "      background-size: cover;\n",
        "      }\n",
        "      h1, h2 {\n",
        "      text-transform: uppercase;\n",
        "      font-weight: 400;\n",
        "      }\n",
        "      h2 {\n",
        "      margin: 0 0 0 8px;\n",
        "      }\n",
        "      .main-block {\n",
        "      display: flex;\n",
        "      flex-direction: column;\n",
        "      justify-content: center;\n",
        "      align-items: center;\n",
        "      height: 100%;\n",
        "      padding: 25px;\n",
        "      background: rgba(0, 0, 0, 0.5); \n",
        "      }\n",
        "      .left-part, form {\n",
        "      padding: 25px;\n",
        "      }\n",
        "      .left-part {\n",
        "      text-align: center;\n",
        "      }\n",
        "      .fa-graduation-cap {\n",
        "      font-size: 72px;\n",
        "      }\n",
        "      form {\n",
        "      background: rgba(0, 0, 0, 0.7); \n",
        "      }\n",
        "      .title {\n",
        "      display: flex;\n",
        "      align-items: center;\n",
        "      margin-bottom: 20px;\n",
        "      }\n",
        "      .info {\n",
        "      display: flex;\n",
        "      flex-direction: column;\n",
        "      }\n",
        "      input, select {\n",
        "      padding: 5px;\n",
        "      margin-bottom: 30px;\n",
        "      background: transparent;\n",
        "      border: none;\n",
        "      border-bottom: 1px solid #eee;\n",
        "      }\n",
        "      input::placeholder {\n",
        "      color: #eee;\n",
        "      }\n",
        "      option:focus {\n",
        "      border: none;\n",
        "      }\n",
        "      option {\n",
        "      background: black; \n",
        "      border: none;\n",
        "      }\n",
        "      .checkbox input {\n",
        "      margin: 0 10px 0 0;\n",
        "      vertical-align: middle;\n",
        "      }\n",
        "      .checkbox a {\n",
        "      color: #26a9e0;\n",
        "      }\n",
        "      .checkbox a:hover {\n",
        "      color: #85d6de;\n",
        "      }\n",
        "      .btn-item, button {\n",
        "      padding: 10px 5px;\n",
        "      margin-top: 20px;\n",
        "      border-radius: 5px; \n",
        "      border: none;\n",
        "      background: #26a9e0; \n",
        "      text-decoration: none;\n",
        "      font-size: 15px;\n",
        "      font-weight: 400;\n",
        "      color: #fff;\n",
        "      }\n",
        "      .btn-item {\n",
        "      display: inline-block;\n",
        "      margin: 20px 5px 0;\n",
        "      }\n",
        "      button {\n",
        "      width: 100%;\n",
        "      }\n",
        "      button:hover, .btn-item:hover {\n",
        "      background: #85d6de;\n",
        "      }\n",
        "      @media (min-width: 568px) {\n",
        "      html, body {\n",
        "      height: 100%;\n",
        "      }\n",
        "      .main-block {\n",
        "      flex-direction: row;\n",
        "      height: calc(100% - 50px);\n",
        "      }\n",
        "      .left-part, form {\n",
        "      flex: 1;\n",
        "      height: auto;\n",
        "      }\n",
        "      }\n",
        "    </style>\n",
        "  </head>\n",
        "  <body>\n",
        "    <div class=\"main-block\">\n",
        "      <div class=\"left-part\">\n",
        "        <i class=\"fas fa-graduation-cap\"></i>\n",
        "        <h1>Register to our courses</h1>\n",
        "        <p>W3docs provides free learning materials for programming languages like HTML, CSS, Java Script, PHP etc.</p>\n",
        "        <div class=\"btn-group\">\n",
        "          <a class=\"btn-item\" href=\"https://www.w3docs.com/learn-html.html\">Learn HTML</a>\n",
        "          <a class=\"btn-item\" href=\"https://www.w3docs.com/quiz/#\">Select Quiz</a>\n",
        "        </div>\n",
        "        $2345\n",
        "      </div>\n",
        "      <form action=\"/\">\n",
        "        <div class=\"title\">\n",
        "          <i class=\"fas fa-pencil-alt\"></i> \n",
        "          <h2>Register here</h2>\n",
        "        </div>\n",
        "        $123\n",
        "        <div class=\"info\">\n",
        "          <input class=\"fname\" type=\"text\" name=\"name\" placeholder=\"Full name\">\n",
        "          <input type=\"text\" name=\"name\" placeholder=\"Email\">\n",
        "          <input type=\"text\" name=\"name\" placeholder=\"Phone number\">\n",
        "          <input type=\"password\" name=\"name\" placeholder=\"Password\">\n",
        "          <select>\n",
        "            <option value=\"course-type\" selected>Course type*</option>\n",
        "            <option value=\"short-courses\">Short courses</option>\n",
        "            <option value=\"featured-courses\">Featured courses</option>\n",
        "            <option value=\"undergraduate\">Undergraduate</option>\n",
        "            <option value=\"diploma\">Diploma</option>\n",
        "            <option value=\"certificate\">Certificate</option>\n",
        "            <option value=\"masters-degree\">Masters degree</option>\n",
        "            <option value=\"postgraduate\" >Postgraduate</option>\n",
        "          </select>\n",
        "        </div>\n",
        "        <div class=\"checkbox\">\n",
        "          <input type=\"checkbox\" name=\"checkbox\"><span>I agree to the <a href=\"https://www.w3docs.com/privacy-policy\">Privacy Poalicy for W3Docs.</a></span>\n",
        "        </div>\n",
        "        <button type=\"submit\" href=\"/\">Submit</button>\n",
        "      </form>\n",
        "    </div>\n",
        "  </body>\n",
        "</html>\n",
        "'''\n"
      ],
      "metadata": {
        "id": "gT67i95dijES"
      },
      "execution_count": 69,
      "outputs": []
    },
    {
      "cell_type": "markdown",
      "source": [
        "**Changing Internal Atrributes**"
      ],
      "metadata": {
        "id": "70QNHfX5jbuY"
      }
    },
    {
      "cell_type": "code",
      "source": [
        "doc = BeautifulSoup(html2, \"lxml\")\n",
        "tag = doc.find('option')\n",
        "print(tag)\n",
        "tag['selected'] = \"HAS BEEN MODIFIED\" # selecting the selected attribute in the option tag\n",
        "tag['color'] = 'blue' # adding extra attribute\n",
        "print(tag)\n",
        "print(tag.attrs) # prints the attributes of the tag"
      ],
      "metadata": {
        "colab": {
          "base_uri": "https://localhost:8080/"
        },
        "id": "TVMKIH6Fin35",
        "outputId": "4bc29f5e-1728-49eb-c2d3-a223b8b98791"
      },
      "execution_count": 70,
      "outputs": [
        {
          "output_type": "stream",
          "name": "stdout",
          "text": [
            "<option selected=\"\" value=\"course-type\">Course type*</option>\n",
            "<option color=\"blue\" selected=\"HAS BEEN MODIFIED\" value=\"course-type\">Course type*</option>\n",
            "{'value': 'course-type', 'selected': 'HAS BEEN MODIFIED', 'color': 'blue'}\n"
          ]
        }
      ]
    },
    {
      "cell_type": "markdown",
      "source": [
        "**Searching for multiple tags at once**\n"
      ],
      "metadata": {
        "id": "JgtLoTuhkSRY"
      }
    },
    {
      "cell_type": "code",
      "source": [
        "tags = doc.find_all(['p','input'])\n",
        "print(tags)\n",
        "\n",
        "specificTag = doc.find_all('option',text=\"Undergraduate\")\n",
        "print(specificTag)"
      ],
      "metadata": {
        "colab": {
          "base_uri": "https://localhost:8080/"
        },
        "id": "RWTkuf8UkVkY",
        "outputId": "f7d640ae-f2ca-4c6d-b89e-b6885b0b4df3"
      },
      "execution_count": 71,
      "outputs": [
        {
          "output_type": "stream",
          "name": "stdout",
          "text": [
            "[<p>W3docs provides free learning materials for programming languages like HTML, CSS, Java Script, PHP etc.</p>, <input class=\"fname\" name=\"name\" placeholder=\"Full name\" type=\"text\"/>, <input name=\"name\" placeholder=\"Email\" type=\"text\"/>, <input name=\"name\" placeholder=\"Phone number\" type=\"text\"/>, <input name=\"name\" placeholder=\"Password\" type=\"password\"/>, <input name=\"checkbox\" type=\"checkbox\"/>]\n",
            "[<option value=\"undergraduate\">Undergraduate</option>]\n"
          ]
        }
      ]
    }
  ]
}
